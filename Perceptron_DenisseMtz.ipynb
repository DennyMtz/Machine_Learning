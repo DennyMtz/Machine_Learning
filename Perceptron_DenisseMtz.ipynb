{
 "cells": [
  {
   "cell_type": "code",
   "execution_count": 1,
   "metadata": {
    "collapsed": false
   },
   "outputs": [],
   "source": [
    "import pandas as pd\n",
    "import numpy as np\n",
    "import csv\n",
    "from sklearn.cross_validation import train_test_split\n",
    "from sklearn.linear_model import LinearRegression\n",
    "import matplotlib.pyplot as plt\n",
    "%matplotlib inline\n",
    "\n",
    "p = pd.read_csv(\"regLin4.csv\")"
   ]
  },
  {
   "cell_type": "code",
   "execution_count": 2,
   "metadata": {
    "collapsed": false
   },
   "outputs": [],
   "source": [
    "X_train, X_test, Y_train, Y_test = train_test_split(p[['X']], p[['y']], train_size=0.75)"
   ]
  },
  {
   "cell_type": "code",
   "execution_count": 3,
   "metadata": {
    "collapsed": false
   },
   "outputs": [],
   "source": [
    "#Si escalamos los datos\n",
    "from sklearn import preprocessing\n",
    "scaleX = preprocessing.StandardScaler()\n",
    "#scaleY = preprocessing.StandardScaler()\n",
    "\n",
    "scaleX.fit(X_train)\n",
    "X_train=scaleX.transform(X_train)\n",
    "X_test=scaleX.transform(X_test)\n",
    "\n",
    "#scaleY.fit(Y_train)\n",
    "#Y_train=scaleY.transform(Y_train)\n",
    "#Y_test=scaleY.transform(Y_test)"
   ]
  },
  {
   "cell_type": "code",
   "execution_count": 4,
   "metadata": {
    "collapsed": false
   },
   "outputs": [
    {
     "name": "stdout",
     "output_type": "stream",
     "text": [
      "[-0.17502578]\n",
      "[-0.19477748]\n",
      "[-0.89859354]\n"
     ]
    }
   ],
   "source": [
    "import random\n",
    "w0i2 = random.random()\n",
    "w1i2 = random.random()\n",
    "eta = 0.05\n",
    "y_esta = 0\n",
    "y_ok = []\n",
    "\n",
    "for i in range(len(X_train)):\n",
    "    a = w0i2 + w1i2*X_train[i]\n",
    "    if a > 0:\n",
    "        y_esta = 1\n",
    "        error_w = Y_train.values[i] - y_esta\n",
    "    else:\n",
    "        y_esta = 0\n",
    "        error_w = Y_train.values[i] - y_esta\n",
    "    y_ok.append(y_esta)\n",
    "    w0i2 = w0i2 + error_w*eta\n",
    "    w1i2 = w1i2 + error_w*eta*X_train[i]\n",
    "\n",
    "print w0i2\n",
    "print w1i2\n",
    "\n",
    "error = []\n",
    "y_estimada = []\n",
    "\n",
    "for i in range(len(Y_test)):\n",
    "    y_estn = w0i2 + w1i2*X_test[i]\n",
    "    if y_estn > 0:\n",
    "        y_estn2 = 1\n",
    "    else:\n",
    "        y_estn2 = 0\n",
    "    error_a = y_estn2 - Y_test.values[i]\n",
    "    error.append(error_a)\n",
    "    y_estimada.append(y_estn2)\n",
    "  \n",
    "lambda1 = -w0i2/w1i2\n",
    "print lambda1\n",
    "#print y_estimada\n"
   ]
  },
  {
   "cell_type": "code",
   "execution_count": 5,
   "metadata": {
    "collapsed": false
   },
   "outputs": [
    {
     "data": {
      "text/plain": [
       "<matplotlib.collections.LineCollection at 0x7f9f29aa0950>"
      ]
     },
     "execution_count": 5,
     "metadata": {},
     "output_type": "execute_result"
    },
    {
     "data": {
      "image/png": "[encoded data removed]",
      "text/plain": [
       "<matplotlib.figure.Figure at 0x7f9f29a8bc50>"
      ]
     },
     "metadata": {},
     "output_type": "display_data"
    }
   ],
   "source": [
    "plt.scatter(X_test,y_estimada,color=\"green\")\n",
    "plt.vlines([lambda1],-.5,1.5,color=\"black\")"
   ]
  },
  {
   "cell_type": "code",
   "execution_count": 6,
   "metadata": {
    "collapsed": false
   },
   "outputs": [],
   "source": [
    "p1 = pd.read_csv(\"and.csv\")"
   ]
  },
  {
   "cell_type": "code",
   "execution_count": 7,
   "metadata": {
    "collapsed": false
   },
   "outputs": [],
   "source": [
    "X_train, X_test, Y_train, Y_test = train_test_split(p1[['x1','x2']],p1[['y']], train_size=0.75)\n",
    "#Si escalamos los datos\n",
    "scaleX = preprocessing.StandardScaler()\n",
    "scaleX.fit(X_train)\n",
    "X_train=scaleX.transform(X_train)\n",
    "X_test=scaleX.transform(X_test)"
   ]
  },
  {
   "cell_type": "code",
   "execution_count": 10,
   "metadata": {
    "collapsed": false
   },
   "outputs": [
    {
     "name": "stdout",
     "output_type": "stream",
     "text": [
      "[-1.48893624] [ 0.98734948] [ 0.75644835]\n"
     ]
    }
   ],
   "source": [
    "w0i = random.random()\n",
    "w1i = random.random()\n",
    "w2i = random.random()\n",
    "w = []\n",
    "error_w3 = 0\n",
    "y_esta3 = 0\n",
    "\n",
    "\n",
    "def entrena(x,y,w0,w1,w2,eta):\n",
    "    z = 0\n",
    "    while (z<1000):\n",
    "        z = z + 1\n",
    "        for i in range(len(x)):\n",
    "            if (w0 + w1*x[i][0]+w2*x[i][1] ) > 0:\n",
    "                y_esta3 = 1\n",
    "                error_w3 = y.values[i] - y_esta3\n",
    "            else:\n",
    "                y_esta3 = 0\n",
    "                error_w3 = y.values[i] - y_esta3\n",
    "            w0 = w0 + error_w3*eta\n",
    "            w1= w1 + error_w3*eta*x[i][0]\n",
    "            w2 = w2 + error_w3*eta*x[i][1]\n",
    "    w.append(w0)\n",
    "    w.append(w1)\n",
    "    w.append(w2)\n",
    "\n",
    "entrena(X_train,Y_train,w0i,w1i,w2i,0.8)\n",
    "\n",
    "w0a = w[0]\n",
    "w1a = w[1]\n",
    "w2a = w[2]\n",
    "error3 = []\n",
    "y_estimada3 = []\n",
    "\n",
    "def salida(k,z,w0,w1,w2):\n",
    "    for r in range(len(k)):\n",
    "        y_estn3 = w0 + w1*k[r][0] + w2*k[r][1]\n",
    "        if y_estn3 > 0:\n",
    "            y_estn3 = 1\n",
    "        else:\n",
    "            y_estn3 = 0\n",
    "        error_a3 = z.values[r] - y_estn3\n",
    "        error.append(error_a3)\n",
    "        y_estimada3.append(y_estn3)\n",
    "\n",
    "salida(X_test,Y_test,w0a,w1a,w2a)\n",
    "\n",
    "print(w0a),\n",
    "print(w1a),\n",
    "print(w2a)"
   ]
  },
  {
   "cell_type": "code",
   "execution_count": 11,
   "metadata": {
    "collapsed": false
   },
   "outputs": [
    {
     "data": {
      "image/png": "[encoded data removed]",
      "text/plain": [
       "<matplotlib.figure.Figure at 0x7f9f260ba210>"
      ]
     },
     "metadata": {},
     "output_type": "display_data"
    }
   ],
   "source": [
    "plt.scatter(p1.x1,p1.x2)\n",
    "x=np.linspace(-1.5,2.5,258)\n",
    "plt.plot(x,-x*w1a/w2a-w0a/w2a,color='green')\n",
    "plt.grid()"
   ]
  },
  {
   "cell_type": "code",
   "execution_count": 12,
   "metadata": {
    "collapsed": true
   },
   "outputs": [],
   "source": [
    "p2 = pd.read_csv(\"or.csv\")"
   ]
  },
  {
   "cell_type": "code",
   "execution_count": 13,
   "metadata": {
    "collapsed": true
   },
   "outputs": [],
   "source": [
    "X_train, X_test, Y_train, Y_test = train_test_split(p2[['x1','x2']],p2[['y']], train_size=0.75)\n",
    "#Si escalamos los datos\n",
    "scaleX = preprocessing.StandardScaler()\n",
    "scaleX.fit(X_train)\n",
    "X_train=scaleX.transform(X_train)\n",
    "X_test=scaleX.transform(X_test)"
   ]
  },
  {
   "cell_type": "code",
   "execution_count": 22,
   "metadata": {
    "collapsed": false
   },
   "outputs": [
    {
     "name": "stdout",
     "output_type": "stream",
     "text": [
      "[ 0.37743395] [ 0.86004626] [ 0.6593391]\n"
     ]
    }
   ],
   "source": [
    "w0i = random.random()\n",
    "w1i = random.random()\n",
    "w2i = random.random()\n",
    "w = []\n",
    "error_w3 = 0\n",
    "y_esta3 = 0\n",
    "\n",
    "\n",
    "def entrena(x,y,w0,w1,w2,eta):\n",
    "    z = 0\n",
    "    while (z<1000):\n",
    "        z = z + 1\n",
    "        for i in range(len(x)):\n",
    "            if (w0 + w1*x[i][0]+w2*x[i][1] ) > 0:\n",
    "                y_esta3 = 1\n",
    "                error_w3 = y.values[i] - y_esta3\n",
    "            else:\n",
    "                y_esta3 = 0\n",
    "                error_w3 = y.values[i] - y_esta3\n",
    "            w0 = w0 + error_w3*eta\n",
    "            w1= w1 + error_w3*eta*x[i][0]\n",
    "            w2 = w2 + error_w3*eta*x[i][1]\n",
    "    w.append(w0)\n",
    "    w.append(w1)\n",
    "    w.append(w2)\n",
    "\n",
    "entrena(X_train,Y_train,w0i,w1i,w2i,0.5)\n",
    "\n",
    "w0a = w[0]\n",
    "w1a = w[1]\n",
    "w2a = w[2]\n",
    "error3 = []\n",
    "y_estimada3 = []\n",
    "\n",
    "def salida(k,z,w0,w1,w2):\n",
    "    for r in range(len(k)):\n",
    "        y_estn3 = w0 + w1*k[r][0] + w2*k[r][1]\n",
    "        if y_estn3 > 0:\n",
    "            y_estn3 = 1\n",
    "        else:\n",
    "            y_estn3 = 0\n",
    "        error_a3 = z.values[r] - y_estn3\n",
    "        error.append(error_a3)\n",
    "        y_estimada3.append(y_estn3)\n",
    "\n",
    "salida(X_test,Y_test,w0a,w1a,w2a)\n",
    "\n",
    "print(w0a),\n",
    "print(w1a),\n",
    "print(w2a)"
   ]
  },
  {
   "cell_type": "code",
   "execution_count": 23,
   "metadata": {
    "collapsed": false
   },
   "outputs": [
    {
     "data": {
      "image/png": "[encoded data removed]",
      "text/plain": [
       "<matplotlib.figure.Figure at 0x7f9f25fbd650>"
      ]
     },
     "metadata": {},
     "output_type": "display_data"
    }
   ],
   "source": [
    "plt.scatter(p2.x1,p2.x2)\n",
    "x=np.linspace(-1.5,2.5,258)\n",
    "plt.plot(x,-x*w1a/w2a-w0a/w2a,color='green')\n",
    "plt.grid()"
   ]
  },
  {
   "cell_type": "code",
   "execution_count": null,
   "metadata": {
    "collapsed": true
   },
   "outputs": [],
   "source": []
  }
 ],
 "metadata": {
  "kernelspec": {
   "display_name": "Python 2",
   "language": "python",
   "name": "python2"
  },
  "language_info": {
   "codemirror_mode": {
    "name": "ipython",
    "version": 2
   },
   "file_extension": ".py",
   "mimetype": "text/x-python",
   "name": "python",
   "nbconvert_exporter": "python",
   "pygments_lexer": "ipython2",
   "version": "2.7.11"
  }
 },
 "nbformat": 4,
 "nbformat_minor": 0
}
