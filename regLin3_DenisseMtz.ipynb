{
 "cells": [
  {
   "cell_type": "code",
   "execution_count": 1,
   "metadata": {
    "collapsed": false
   },
   "outputs": [
    {
     "data": {
      "text/html": [
       "<div>\n",
       "<table border=\"1\" class=\"dataframe\">\n",
       "  <thead>\n",
       "    <tr style=\"text-align: right;\">\n",
       "      <th></th>\n",
       "      <th>X</th>\n",
       "      <th>y</th>\n",
       "    </tr>\n",
       "  </thead>\n",
       "  <tbody>\n",
       "    <tr>\n",
       "      <th>0</th>\n",
       "      <td>63.104562</td>\n",
       "      <td>0.269342</td>\n",
       "    </tr>\n",
       "    <tr>\n",
       "      <th>1</th>\n",
       "      <td>31.338077</td>\n",
       "      <td>-0.077771</td>\n",
       "    </tr>\n",
       "    <tr>\n",
       "      <th>2</th>\n",
       "      <td>65.006731</td>\n",
       "      <td>0.823024</td>\n",
       "    </tr>\n",
       "    <tr>\n",
       "      <th>3</th>\n",
       "      <td>84.467298</td>\n",
       "      <td>0.348250</td>\n",
       "    </tr>\n",
       "    <tr>\n",
       "      <th>4</th>\n",
       "      <td>49.336664</td>\n",
       "      <td>-0.800913</td>\n",
       "    </tr>\n",
       "    <tr>\n",
       "      <th>5</th>\n",
       "      <td>93.321721</td>\n",
       "      <td>-0.799257</td>\n",
       "    </tr>\n",
       "    <tr>\n",
       "      <th>6</th>\n",
       "      <td>8.294747</td>\n",
       "      <td>0.904425</td>\n",
       "    </tr>\n",
       "    <tr>\n",
       "      <th>7</th>\n",
       "      <td>81.097165</td>\n",
       "      <td>-0.551569</td>\n",
       "    </tr>\n",
       "    <tr>\n",
       "      <th>8</th>\n",
       "      <td>35.212457</td>\n",
       "      <td>-0.609110</td>\n",
       "    </tr>\n",
       "    <tr>\n",
       "      <th>9</th>\n",
       "      <td>16.221021</td>\n",
       "      <td>-0.490843</td>\n",
       "    </tr>\n",
       "    <tr>\n",
       "      <th>10</th>\n",
       "      <td>56.730621</td>\n",
       "      <td>0.180951</td>\n",
       "    </tr>\n",
       "    <tr>\n",
       "      <th>11</th>\n",
       "      <td>94.618225</td>\n",
       "      <td>0.362030</td>\n",
       "    </tr>\n",
       "    <tr>\n",
       "      <th>12</th>\n",
       "      <td>75.048837</td>\n",
       "      <td>-0.342322</td>\n",
       "    </tr>\n",
       "    <tr>\n",
       "      <th>13</th>\n",
       "      <td>87.211785</td>\n",
       "      <td>-0.683692</td>\n",
       "    </tr>\n",
       "    <tr>\n",
       "      <th>14</th>\n",
       "      <td>97.781264</td>\n",
       "      <td>-0.381938</td>\n",
       "    </tr>\n",
       "    <tr>\n",
       "      <th>15</th>\n",
       "      <td>15.201462</td>\n",
       "      <td>0.485121</td>\n",
       "    </tr>\n",
       "    <tr>\n",
       "      <th>16</th>\n",
       "      <td>18.618978</td>\n",
       "      <td>-0.228540</td>\n",
       "    </tr>\n",
       "    <tr>\n",
       "      <th>17</th>\n",
       "      <td>49.295284</td>\n",
       "      <td>-0.824998</td>\n",
       "    </tr>\n",
       "    <tr>\n",
       "      <th>18</th>\n",
       "      <td>47.119916</td>\n",
       "      <td>0.003974</td>\n",
       "    </tr>\n",
       "    <tr>\n",
       "      <th>19</th>\n",
       "      <td>67.075510</td>\n",
       "      <td>-0.892142</td>\n",
       "    </tr>\n",
       "    <tr>\n",
       "      <th>20</th>\n",
       "      <td>23.649985</td>\n",
       "      <td>-0.996127</td>\n",
       "    </tr>\n",
       "    <tr>\n",
       "      <th>21</th>\n",
       "      <td>47.713408</td>\n",
       "      <td>-0.555961</td>\n",
       "    </tr>\n",
       "    <tr>\n",
       "      <th>22</th>\n",
       "      <td>69.594511</td>\n",
       "      <td>0.461311</td>\n",
       "    </tr>\n",
       "    <tr>\n",
       "      <th>23</th>\n",
       "      <td>51.796043</td>\n",
       "      <td>0.999191</td>\n",
       "    </tr>\n",
       "    <tr>\n",
       "      <th>24</th>\n",
       "      <td>11.531481</td>\n",
       "      <td>-0.859806</td>\n",
       "    </tr>\n",
       "    <tr>\n",
       "      <th>25</th>\n",
       "      <td>53.501022</td>\n",
       "      <td>-0.093808</td>\n",
       "    </tr>\n",
       "    <tr>\n",
       "      <th>26</th>\n",
       "      <td>77.409582</td>\n",
       "      <td>0.904512</td>\n",
       "    </tr>\n",
       "    <tr>\n",
       "      <th>27</th>\n",
       "      <td>91.392138</td>\n",
       "      <td>-0.282070</td>\n",
       "    </tr>\n",
       "    <tr>\n",
       "      <th>28</th>\n",
       "      <td>41.668214</td>\n",
       "      <td>-0.736249</td>\n",
       "    </tr>\n",
       "    <tr>\n",
       "      <th>29</th>\n",
       "      <td>18.190224</td>\n",
       "      <td>-0.612589</td>\n",
       "    </tr>\n",
       "    <tr>\n",
       "      <th>...</th>\n",
       "      <td>...</td>\n",
       "      <td>...</td>\n",
       "    </tr>\n",
       "    <tr>\n",
       "      <th>999</th>\n",
       "      <td>85.277566</td>\n",
       "      <td>-0.439071</td>\n",
       "    </tr>\n",
       "    <tr>\n",
       "      <th>1000</th>\n",
       "      <td>40.335703</td>\n",
       "      <td>0.483809</td>\n",
       "    </tr>\n",
       "    <tr>\n",
       "      <th>1001</th>\n",
       "      <td>38.522297</td>\n",
       "      <td>0.733315</td>\n",
       "    </tr>\n",
       "    <tr>\n",
       "      <th>1002</th>\n",
       "      <td>11.663746</td>\n",
       "      <td>-0.784956</td>\n",
       "    </tr>\n",
       "    <tr>\n",
       "      <th>1003</th>\n",
       "      <td>40.052267</td>\n",
       "      <td>0.709253</td>\n",
       "    </tr>\n",
       "    <tr>\n",
       "      <th>1004</th>\n",
       "      <td>94.572565</td>\n",
       "      <td>0.319105</td>\n",
       "    </tr>\n",
       "    <tr>\n",
       "      <th>1005</th>\n",
       "      <td>52.732761</td>\n",
       "      <td>0.624362</td>\n",
       "    </tr>\n",
       "    <tr>\n",
       "      <th>1006</th>\n",
       "      <td>73.784681</td>\n",
       "      <td>-0.999087</td>\n",
       "    </tr>\n",
       "    <tr>\n",
       "      <th>1007</th>\n",
       "      <td>98.271342</td>\n",
       "      <td>-0.771993</td>\n",
       "    </tr>\n",
       "    <tr>\n",
       "      <th>1008</th>\n",
       "      <td>2.240206</td>\n",
       "      <td>0.784188</td>\n",
       "    </tr>\n",
       "    <tr>\n",
       "      <th>1009</th>\n",
       "      <td>15.032648</td>\n",
       "      <td>0.625143</td>\n",
       "    </tr>\n",
       "    <tr>\n",
       "      <th>1010</th>\n",
       "      <td>42.707816</td>\n",
       "      <td>-0.956419</td>\n",
       "    </tr>\n",
       "    <tr>\n",
       "      <th>1011</th>\n",
       "      <td>75.879737</td>\n",
       "      <td>0.463121</td>\n",
       "    </tr>\n",
       "    <tr>\n",
       "      <th>1012</th>\n",
       "      <td>17.615023</td>\n",
       "      <td>-0.943994</td>\n",
       "    </tr>\n",
       "    <tr>\n",
       "      <th>1013</th>\n",
       "      <td>87.225016</td>\n",
       "      <td>-0.673977</td>\n",
       "    </tr>\n",
       "    <tr>\n",
       "      <th>1014</th>\n",
       "      <td>59.683822</td>\n",
       "      <td>0.006438</td>\n",
       "    </tr>\n",
       "    <tr>\n",
       "      <th>1015</th>\n",
       "      <td>96.622002</td>\n",
       "      <td>0.694245</td>\n",
       "    </tr>\n",
       "    <tr>\n",
       "      <th>1016</th>\n",
       "      <td>8.679787</td>\n",
       "      <td>0.677965</td>\n",
       "    </tr>\n",
       "    <tr>\n",
       "      <th>1017</th>\n",
       "      <td>3.572011</td>\n",
       "      <td>-0.417251</td>\n",
       "    </tr>\n",
       "    <tr>\n",
       "      <th>1018</th>\n",
       "      <td>20.133561</td>\n",
       "      <td>0.959157</td>\n",
       "    </tr>\n",
       "    <tr>\n",
       "      <th>1019</th>\n",
       "      <td>93.195053</td>\n",
       "      <td>-0.868777</td>\n",
       "    </tr>\n",
       "    <tr>\n",
       "      <th>1020</th>\n",
       "      <td>56.398333</td>\n",
       "      <td>-0.149769</td>\n",
       "    </tr>\n",
       "    <tr>\n",
       "      <th>1021</th>\n",
       "      <td>66.269781</td>\n",
       "      <td>-0.292017</td>\n",
       "    </tr>\n",
       "    <tr>\n",
       "      <th>1022</th>\n",
       "      <td>43.653424</td>\n",
       "      <td>-0.322976</td>\n",
       "    </tr>\n",
       "    <tr>\n",
       "      <th>1023</th>\n",
       "      <td>6.483244</td>\n",
       "      <td>0.198727</td>\n",
       "    </tr>\n",
       "    <tr>\n",
       "      <th>1024</th>\n",
       "      <td>10.590450</td>\n",
       "      <td>-0.919053</td>\n",
       "    </tr>\n",
       "    <tr>\n",
       "      <th>1025</th>\n",
       "      <td>88.137785</td>\n",
       "      <td>0.172327</td>\n",
       "    </tr>\n",
       "    <tr>\n",
       "      <th>1026</th>\n",
       "      <td>58.208672</td>\n",
       "      <td>0.996024</td>\n",
       "    </tr>\n",
       "    <tr>\n",
       "      <th>1027</th>\n",
       "      <td>19.619989</td>\n",
       "      <td>0.696446</td>\n",
       "    </tr>\n",
       "    <tr>\n",
       "      <th>1028</th>\n",
       "      <td>95.490022</td>\n",
       "      <td>0.946510</td>\n",
       "    </tr>\n",
       "  </tbody>\n",
       "</table>\n",
       "<p>1029 rows × 2 columns</p>\n",
       "</div>"
      ],
      "text/plain": [
       "              X         y\n",
       "0     63.104562  0.269342\n",
       "1     31.338077 -0.077771\n",
       "2     65.006731  0.823024\n",
       "3     84.467298  0.348250\n",
       "4     49.336664 -0.800913\n",
       "5     93.321721 -0.799257\n",
       "6      8.294747  0.904425\n",
       "7     81.097165 -0.551569\n",
       "8     35.212457 -0.609110\n",
       "9     16.221021 -0.490843\n",
       "10    56.730621  0.180951\n",
       "11    94.618225  0.362030\n",
       "12    75.048837 -0.342322\n",
       "13    87.211785 -0.683692\n",
       "14    97.781264 -0.381938\n",
       "15    15.201462  0.485121\n",
       "16    18.618978 -0.228540\n",
       "17    49.295284 -0.824998\n",
       "18    47.119916  0.003974\n",
       "19    67.075510 -0.892142\n",
       "20    23.649985 -0.996127\n",
       "21    47.713408 -0.555961\n",
       "22    69.594511  0.461311\n",
       "23    51.796043  0.999191\n",
       "24    11.531481 -0.859806\n",
       "25    53.501022 -0.093808\n",
       "26    77.409582  0.904512\n",
       "27    91.392138 -0.282070\n",
       "28    41.668214 -0.736249\n",
       "29    18.190224 -0.612589\n",
       "...         ...       ...\n",
       "999   85.277566 -0.439071\n",
       "1000  40.335703  0.483809\n",
       "1001  38.522297  0.733315\n",
       "1002  11.663746 -0.784956\n",
       "1003  40.052267  0.709253\n",
       "1004  94.572565  0.319105\n",
       "1005  52.732761  0.624362\n",
       "1006  73.784681 -0.999087\n",
       "1007  98.271342 -0.771993\n",
       "1008   2.240206  0.784188\n",
       "1009  15.032648  0.625143\n",
       "1010  42.707816 -0.956419\n",
       "1011  75.879737  0.463121\n",
       "1012  17.615023 -0.943994\n",
       "1013  87.225016 -0.673977\n",
       "1014  59.683822  0.006438\n",
       "1015  96.622002  0.694245\n",
       "1016   8.679787  0.677965\n",
       "1017   3.572011 -0.417251\n",
       "1018  20.133561  0.959157\n",
       "1019  93.195053 -0.868777\n",
       "1020  56.398333 -0.149769\n",
       "1021  66.269781 -0.292017\n",
       "1022  43.653424 -0.322976\n",
       "1023   6.483244  0.198727\n",
       "1024  10.590450 -0.919053\n",
       "1025  88.137785  0.172327\n",
       "1026  58.208672  0.996024\n",
       "1027  19.619989  0.696446\n",
       "1028  95.490022  0.946510\n",
       "\n",
       "[1029 rows x 2 columns]"
      ]
     },
     "execution_count": 1,
     "metadata": {},
     "output_type": "execute_result"
    }
   ],
   "source": [
    "import pandas as pd\n",
    "import numpy as np\n",
    "import csv\n",
    "from sklearn.cross_validation import train_test_split\n",
    "from sklearn.linear_model import LinearRegression\n",
    "import matplotlib.pyplot as plt\n",
    "%matplotlib inline\n",
    "\n",
    "lr = pd.read_csv(\"regLin3.csv\")\n",
    "lr"
   ]
  },
  {
   "cell_type": "code",
   "execution_count": 2,
   "metadata": {
    "collapsed": true
   },
   "outputs": [],
   "source": [
    "X_train, X_test, Y_train, Y_test = train_test_split(lr[[\"X\"]], lr[[\"y\"]], train_size=0.75)"
   ]
  },
  {
   "cell_type": "code",
   "execution_count": 3,
   "metadata": {
    "collapsed": false
   },
   "outputs": [
    {
     "data": {
      "text/plain": [
       "LinearRegression(copy_X=True, fit_intercept=True, n_jobs=1, normalize=False)"
      ]
     },
     "execution_count": 3,
     "metadata": {},
     "output_type": "execute_result"
    }
   ],
   "source": [
    "lm = LinearRegression()\n",
    "lm\n",
    "lm.fit(X_train, Y_train)"
   ]
  },
  {
   "cell_type": "code",
   "execution_count": 4,
   "metadata": {
    "collapsed": false
   },
   "outputs": [
    {
     "data": {
      "text/plain": [
       "y    0.497019\n",
       "dtype: float64"
      ]
     },
     "execution_count": 4,
     "metadata": {},
     "output_type": "execute_result"
    }
   ],
   "source": [
    "np.mean((lm.predict(X_test) - Y_test) ** 2)"
   ]
  },
  {
   "cell_type": "code",
   "execution_count": 5,
   "metadata": {
    "collapsed": false
   },
   "outputs": [
    {
     "data": {
      "text/plain": [
       "array([[-0.00162462]])"
      ]
     },
     "execution_count": 5,
     "metadata": {},
     "output_type": "execute_result"
    }
   ],
   "source": [
    "lm.coef_"
   ]
  },
  {
   "cell_type": "code",
   "execution_count": 6,
   "metadata": {
    "collapsed": false
   },
   "outputs": [
    {
     "data": {
      "text/plain": [
       "array([ 0.06965024])"
      ]
     },
     "execution_count": 6,
     "metadata": {},
     "output_type": "execute_result"
    }
   ],
   "source": [
    "lm.intercept_"
   ]
  },
  {
   "cell_type": "code",
   "execution_count": 7,
   "metadata": {
    "collapsed": false
   },
   "outputs": [
    {
     "data": {
      "text/plain": [
       "[<matplotlib.lines.Line2D at 0x180a39e8>]"
      ]
     },
     "execution_count": 7,
     "metadata": {},
     "output_type": "execute_result"
    },
    {
     "data": {
      "image/png": "[encoded data removed]",
      "text/plain": [
       "<matplotlib.figure.Figure at 0x180a3668>"
      ]
     },
     "metadata": {},
     "output_type": "display_data"
    }
   ],
   "source": [
    "plt.scatter(X_test, Y_test,  color='black')\n",
    "plt.plot(X_test, lm.predict(X_test), color='blue',linewidth=3)"
   ]
  },
  {
   "cell_type": "code",
   "execution_count": 8,
   "metadata": {
    "collapsed": false
   },
   "outputs": [
    {
     "data": {
      "text/plain": [
       "[<matplotlib.lines.Line2D at 0x186e19e8>]"
      ]
     },
     "execution_count": 8,
     "metadata": {},
     "output_type": "execute_result"
    },
    {
     "data": {
      "image/png": "[encoded data removed]",
      "text/plain": [
       "<matplotlib.figure.Figure at 0x185282e8>"
      ]
     },
     "metadata": {},
     "output_type": "display_data"
    }
   ],
   "source": [
    "w0 = lm.intercept_[0]\n",
    "w1 = lm.coef_[0][0]\n",
    "\n",
    "W=range(-100,100,1) + w1\n",
    "error =[]\n",
    "for i in W:\n",
    "    y_pred = i*X_test+ w0\n",
    "    C= np.subtract(y_pred, Y_test)\n",
    "    C= C**2\n",
    "    error.append(np.mean(C))\n",
    "\n",
    "plt.plot(W,error)"
   ]
  },
  {
   "cell_type": "code",
   "execution_count": null,
   "metadata": {
    "collapsed": true
   },
   "outputs": [],
   "source": []
  }
 ],
 "metadata": {
  "kernelspec": {
   "display_name": "Python 2",
   "language": "python",
   "name": "python2"
  },
  "language_info": {
   "codemirror_mode": {
    "name": "ipython",
    "version": 2
   },
   "file_extension": ".py",
   "mimetype": "text/x-python",
   "name": "python",
   "nbconvert_exporter": "python",
   "pygments_lexer": "ipython2",
   "version": "2.7.10"
  }
 },
 "nbformat": 4,
 "nbformat_minor": 0
}
