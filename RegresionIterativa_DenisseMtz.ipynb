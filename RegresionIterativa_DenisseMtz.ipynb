{
 "cells": [
  {
   "cell_type": "code",
   "execution_count": 10,
   "metadata": {
    "collapsed": false
   },
   "outputs": [],
   "source": [
    "import pandas as pd\n",
    "import numpy as np\n",
    "import csv\n",
    "from sklearn.cross_validation import train_test_split\n",
    "from sklearn.linear_model import LinearRegression\n",
    "import matplotlib.pyplot as plt\n",
    "%matplotlib inline\n",
    "\n",
    "lr = pd.read_csv(\"regLin.csv\")"
   ]
  },
  {
   "cell_type": "code",
   "execution_count": 11,
   "metadata": {
    "collapsed": false
   },
   "outputs": [],
   "source": [
    "X_train, X_test, Y_train, Y_test = train_test_split(lr[['X']], lr[['y']], train_size=0.50)\n",
    "\n",
    "import random\n",
    "w0i=random.random()\n",
    "w1i=random.random()\n",
    "eta=0.001"
   ]
  },
  {
   "cell_type": "code",
   "execution_count": 12,
   "metadata": {
    "collapsed": false
   },
   "outputs": [
    {
     "name": "stdout",
     "output_type": "stream",
     "text": [
      "-1.0158212797e+185 2.46547603262e+186\n"
     ]
    }
   ],
   "source": [
    "error_i = 0.0\n",
    "datos = []\n",
    "errores = []\n",
    "\n",
    "for i in range(len(lr['X'])):\n",
    "    y_est = w0i + w1i*lr['X'].values[i]\n",
    "    error_i = lr['y'].values[i] - y_est\n",
    "    w0i = w0i + error_i*eta\n",
    "    w1i = w1i + error_i*eta*lr['X'].values[i]\n",
    "    datos.append(i)\n",
    "    errores.append(error_i)\n",
    "    \n",
    "print(w0i),\n",
    "print(w1i)"
   ]
  },
  {
   "cell_type": "code",
   "execution_count": 13,
   "metadata": {
    "collapsed": false
   },
   "outputs": [
    {
     "data": {
      "text/plain": [
       "<matplotlib.collections.PathCollection at 0x189d8940>"
      ]
     },
     "execution_count": 13,
     "metadata": {},
     "output_type": "execute_result"
    },
    {
     "data": {
      "image/png": "[encoded data removed]",
      "text/plain": [
       "<matplotlib.figure.Figure at 0x18945e10>"
      ]
     },
     "metadata": {},
     "output_type": "display_data"
    }
   ],
   "source": [
    "plt.scatter(datos,errores)"
   ]
  },
  {
   "cell_type": "code",
   "execution_count": 14,
   "metadata": {
    "collapsed": false
   },
   "outputs": [],
   "source": [
    "#Si escalamos los datos\n",
    "\n",
    "from sklearn import preprocessing\n",
    "scaleX = preprocessing.StandardScaler()\n",
    "scaleY = preprocessing.StandardScaler()\n",
    "\n",
    "scaleX.fit(X_train)\n",
    "X_train=scaleX.transform(X_train)\n",
    "X_test=scaleX.transform(X_test)\n",
    "\n",
    "scaleY.fit(Y_train)\n",
    "Y_train=scaleY.transform(Y_train)\n",
    "Y_test=scaleY.transform(Y_test)"
   ]
  },
  {
   "cell_type": "code",
   "execution_count": 15,
   "metadata": {
    "collapsed": false
   },
   "outputs": [
    {
     "name": "stdout",
     "output_type": "stream",
     "text": [
      "[-0.0141994] [ 0.96171214]\n"
     ]
    }
   ],
   "source": [
    "w0i2 = random.random()\n",
    "w1i2 = random.random()\n",
    "eta = 0.01\n",
    "error_i2 = 0.0\n",
    "datos2 = []\n",
    "errores2 = []\n",
    "\n",
    "for i in range(len(X_train)):\n",
    "    y_est = w0i2 + w1i2*X_train[i]\n",
    "    error_i2 = Y_train[i] - y_est\n",
    "    w0i2 = w0i2 + error_i2*eta\n",
    "    w1i2 = w1i2 + error_i2*eta*X_train[i]\n",
    "    datos2.append(i)\n",
    "    errores2.append(error_i2)\n",
    "    \n",
    "print(w0i2),\n",
    "print(w1i2)\n",
    "\n",
    "y_est = []\n",
    "for i in range(len(X_test)):\n",
    "    y_estfin = w0i2 + w1i2*X_test[i]\n",
    "    y_est.append(y_estfin)"
   ]
  },
  {
   "cell_type": "code",
   "execution_count": 16,
   "metadata": {
    "collapsed": false
   },
   "outputs": [
    {
     "data": {
      "text/plain": [
       "<matplotlib.collections.PathCollection at 0x18c3b4a8>"
      ]
     },
     "execution_count": 16,
     "metadata": {},
     "output_type": "execute_result"
    },
    {
     "data": {
      "image/png": "[encoded data removed]",
      "text/plain": [
       "<matplotlib.figure.Figure at 0x184156a0>"
      ]
     },
     "metadata": {},
     "output_type": "display_data"
    }
   ],
   "source": [
    "plt.scatter(datos2,errores2)"
   ]
  },
  {
   "cell_type": "code",
   "execution_count": 17,
   "metadata": {
    "collapsed": false
   },
   "outputs": [
    {
     "data": {
      "text/plain": [
       "<matplotlib.collections.PathCollection at 0x196be9e8>"
      ]
     },
     "execution_count": 17,
     "metadata": {},
     "output_type": "execute_result"
    },
    {
     "data": {
      "image/png": "[encoded data removed]",
      "text/plain": [
       "<matplotlib.figure.Figure at 0x18bf55f8>"
      ]
     },
     "metadata": {},
     "output_type": "display_data"
    }
   ],
   "source": [
    "plt.scatter(X_test,y_est, color = \"black\")\n",
    "plt.scatter(X_train,Y_train, color = \"green\")"
   ]
  },
  {
   "cell_type": "code",
   "execution_count": null,
   "metadata": {
    "collapsed": true
   },
   "outputs": [],
   "source": []
  }
 ],
 "metadata": {
  "kernelspec": {
   "display_name": "Python 2",
   "language": "python",
   "name": "python2"
  },
  "language_info": {
   "codemirror_mode": {
    "name": "ipython",
    "version": 2
   },
   "file_extension": ".py",
   "mimetype": "text/x-python",
   "name": "python",
   "nbconvert_exporter": "python",
   "pygments_lexer": "ipython2",
   "version": "2.7.10"
  }
 },
 "nbformat": 4,
 "nbformat_minor": 0
}
