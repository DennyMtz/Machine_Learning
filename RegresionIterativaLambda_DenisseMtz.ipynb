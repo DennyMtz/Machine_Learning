{
 "cells": [
  {
   "cell_type": "markdown",
   "metadata": {},
   "source": [
    "# Regresión Iterativa"
   ]
  },
  {
   "cell_type": "code",
   "execution_count": 1,
   "metadata": {
    "collapsed": false
   },
   "outputs": [],
   "source": [
    "import pandas as pd\n",
    "import numpy as np\n",
    "import csv\n",
    "from sklearn.cross_validation import train_test_split\n",
    "from sklearn.linear_model import LinearRegression\n",
    "import matplotlib.pyplot as plt\n",
    "from sklearn.preprocessing import StandardScaler\n",
    "\n",
    "%matplotlib inline\n",
    "ri = pd.read_csv(\"regLinPoli.csv\")\n"
   ]
  },
  {
   "cell_type": "code",
   "execution_count": 2,
   "metadata": {
    "collapsed": false
   },
   "outputs": [],
   "source": [
    "X_train, X_test, Y_train, Y_test = train_test_split(ri[['X','X2','X3','X4']], ri[['y']], train_size=0.75)\n",
    "\n",
    "scaleX = StandardScaler()\n",
    "\n",
    "scaleY = StandardScaler()\n",
    "\n",
    "scaleX.fit(X_train)\n",
    "X_train=scaleX.transform(X_train)\n",
    "X_test=scaleX.transform(X_test)\n",
    "\n",
    "scaleY.fit(Y_train)\n",
    "Y_train=scaleY.transform(Y_train)\n",
    "Y_test=scaleY.transform(Y_test)"
   ]
  },
  {
   "cell_type": "code",
   "execution_count": 5,
   "metadata": {
    "collapsed": false
   },
   "outputs": [],
   "source": [
    "import random\n",
    "w0i=random.random()\n",
    "w1i=random.random()\n",
    "w2i=random.random()\n",
    "w3i=random.random()\n",
    "w4i=random.random()\n",
    "\n",
    "eta=0.06\n",
    "\n",
    "#lam = [0.01, 0.05, 0.10, 0.15, 0.20, 0.25, 0.30, 0.35, 0.40, 0.45, 0.50, 0.55, 0.60, 0.65, 0.70, 0.75, 0.80, 0.85, 0.90, 0.95]\n",
    "import numpy\n",
    "lam = numpy.arange(0,1,0.05)"
   ]
  },
  {
   "cell_type": "code",
   "execution_count": 6,
   "metadata": {
    "collapsed": false
   },
   "outputs": [
    {
     "name": "stdout",
     "output_type": "stream",
     "text": [
      "error minimo 0.0887610992347\n",
      "lambda con error minimo 0.05\n",
      "w's que minimizan el error con lambda 0.05 : [ 0.04070906] [ 0.34855986] [ 0.40878686] [-0.00207094] [ 0.06296419]\n"
     ]
    },
    {
     "data": {
      "text/plain": [
       "<matplotlib.collections.PathCollection at 0x7ff2e374bcd0>"
      ]
     },
     "execution_count": 6,
     "metadata": {},
     "output_type": "execute_result"
    },
    {
     "data": {
      "image/png": "[encoded data removed]",
      "text/plain": [
       "<matplotlib.figure.Figure at 0x7ff2e72abd90>"
      ]
     },
     "metadata": {},
     "output_type": "display_data"
    }
   ],
   "source": [
    "error_i = 0.0\n",
    "datos = []\n",
    "errores = []\n",
    "errores_lam = []\n",
    "lambdas = []\n",
    "ws = []\n",
    "\n",
    "\n",
    "for x in range(len(lam)):\n",
    "   \n",
    "    for i in range(len(X_train)):\n",
    "        y_est = w0i + w1i*X_train[i][0]+ w2i*X_train[i][1]+ w3i*X_train[i][2]+ w4i*X_train[i][3]\n",
    "        error_i = Y_train[i] - y_est\n",
    "        w0i = w0i + error_i*eta\n",
    "        w1i = w1i + error_i*eta*X_train[i][0] - lam[x]*(w1i)\n",
    "        w2i = w2i + error_i*eta*X_train[i][1] - lam[x]*(w2i)\n",
    "        w3i = w3i + error_i*eta*X_train[i][2] - lam[x]*(w3i)\n",
    "        w4i = w4i + error_i*eta*X_train[i][3] - lam[x]*(w4i)\n",
    "        datos.append(i)\n",
    "        errores.append(error_i)\n",
    "        \n",
    "    #print \"w0:  \",float(w0i)\n",
    "    #print \"w1:  \",float(w1i)\n",
    "    #print \"w2:  \",float(w2i)\n",
    "    #print \"w3:  \",float(w3i)\n",
    "    #print \"w4:  \",float(w4i)\n",
    "    \n",
    "    \n",
    "\n",
    "    lambdas.append(lam[x])\n",
    "    ws.append(w0i),\n",
    "    ws.append(w1i),\n",
    "    ws.append(w2i),\n",
    "    ws.append(w3i)\n",
    "    ws.append(w4i)\n",
    "    errores3 = [( w0i + w1i*X_test[i][0]+ w2i*X_test[i][1]+ w3i*X_test[i][2]+ w4i*X_test[i][3] -Y_test[i] )**2 for i in range(len(X_test))]\n",
    "    errores3 = numpy.mean(errores3)\n",
    "    errores_lam.append(errores3)\n",
    "\n",
    "    \n",
    "#print errores_lam\n",
    "print \"error minimo\", min(errores_lam)\n",
    "a = errores_lam.index(min(errores_lam))\n",
    "print \"lambda con error minimo\",lambdas[a]\n",
    "print \"w's que minimizan el error con lambda\", lambdas[a],\":\", ws[a*5],ws[(a*5)+1],ws[(a*5)+2],ws[(a*5)+3],ws[(a*5)+4]\n",
    "\n",
    "#print ws\n",
    "plt.scatter(lam,errores_lam)"
   ]
  }
 ],
 "metadata": {
  "kernelspec": {
   "display_name": "Python 2",
   "language": "python",
   "name": "python2"
  },
  "language_info": {
   "codemirror_mode": {
    "name": "ipython",
    "version": 2
   },
   "file_extension": ".py",
   "mimetype": "text/x-python",
   "name": "python",
   "nbconvert_exporter": "python",
   "pygments_lexer": "ipython2",
   "version": "2.7.11"
  }
 },
 "nbformat": 4,
 "nbformat_minor": 0
}
