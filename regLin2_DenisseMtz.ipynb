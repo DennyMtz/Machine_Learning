{
 "cells": [
  {
   "cell_type": "code",
   "execution_count": 1,
   "metadata": {
    "collapsed": false
   },
   "outputs": [
    {
     "data": {
      "text/html": [
       "<div>\n",
       "<table border=\"1\" class=\"dataframe\">\n",
       "  <thead>\n",
       "    <tr style=\"text-align: right;\">\n",
       "      <th></th>\n",
       "      <th>X</th>\n",
       "      <th>y</th>\n",
       "    </tr>\n",
       "  </thead>\n",
       "  <tbody>\n",
       "    <tr>\n",
       "      <th>0</th>\n",
       "      <td>99.320698</td>\n",
       "      <td>5939.441068</td>\n",
       "    </tr>\n",
       "    <tr>\n",
       "      <th>1</th>\n",
       "      <td>40.493010</td>\n",
       "      <td>1110.673401</td>\n",
       "    </tr>\n",
       "    <tr>\n",
       "      <th>2</th>\n",
       "      <td>55.350489</td>\n",
       "      <td>2346.004414</td>\n",
       "    </tr>\n",
       "    <tr>\n",
       "      <th>3</th>\n",
       "      <td>63.938261</td>\n",
       "      <td>2672.828947</td>\n",
       "    </tr>\n",
       "    <tr>\n",
       "      <th>4</th>\n",
       "      <td>54.209839</td>\n",
       "      <td>1371.676095</td>\n",
       "    </tr>\n",
       "    <tr>\n",
       "      <th>5</th>\n",
       "      <td>58.567857</td>\n",
       "      <td>2243.957468</td>\n",
       "    </tr>\n",
       "    <tr>\n",
       "      <th>6</th>\n",
       "      <td>73.800856</td>\n",
       "      <td>3385.903677</td>\n",
       "    </tr>\n",
       "    <tr>\n",
       "      <th>7</th>\n",
       "      <td>38.966794</td>\n",
       "      <td>1244.996258</td>\n",
       "    </tr>\n",
       "    <tr>\n",
       "      <th>8</th>\n",
       "      <td>35.206371</td>\n",
       "      <td>487.813781</td>\n",
       "    </tr>\n",
       "    <tr>\n",
       "      <th>9</th>\n",
       "      <td>71.143556</td>\n",
       "      <td>3544.184096</td>\n",
       "    </tr>\n",
       "    <tr>\n",
       "      <th>10</th>\n",
       "      <td>10.530378</td>\n",
       "      <td>22.828265</td>\n",
       "    </tr>\n",
       "    <tr>\n",
       "      <th>11</th>\n",
       "      <td>17.035495</td>\n",
       "      <td>47.039926</td>\n",
       "    </tr>\n",
       "    <tr>\n",
       "      <th>12</th>\n",
       "      <td>68.388310</td>\n",
       "      <td>2793.767914</td>\n",
       "    </tr>\n",
       "    <tr>\n",
       "      <th>13</th>\n",
       "      <td>10.976291</td>\n",
       "      <td>69.193007</td>\n",
       "    </tr>\n",
       "    <tr>\n",
       "      <th>14</th>\n",
       "      <td>43.487625</td>\n",
       "      <td>822.915252</td>\n",
       "    </tr>\n",
       "    <tr>\n",
       "      <th>15</th>\n",
       "      <td>4.367692</td>\n",
       "      <td>29.735003</td>\n",
       "    </tr>\n",
       "    <tr>\n",
       "      <th>16</th>\n",
       "      <td>6.229854</td>\n",
       "      <td>10.406188</td>\n",
       "    </tr>\n",
       "    <tr>\n",
       "      <th>17</th>\n",
       "      <td>97.439567</td>\n",
       "      <td>6102.892738</td>\n",
       "    </tr>\n",
       "    <tr>\n",
       "      <th>18</th>\n",
       "      <td>95.021805</td>\n",
       "      <td>5196.513681</td>\n",
       "    </tr>\n",
       "    <tr>\n",
       "      <th>19</th>\n",
       "      <td>41.489106</td>\n",
       "      <td>877.114624</td>\n",
       "    </tr>\n",
       "    <tr>\n",
       "      <th>20</th>\n",
       "      <td>83.205668</td>\n",
       "      <td>4539.286637</td>\n",
       "    </tr>\n",
       "    <tr>\n",
       "      <th>21</th>\n",
       "      <td>66.392600</td>\n",
       "      <td>2234.470048</td>\n",
       "    </tr>\n",
       "    <tr>\n",
       "      <th>22</th>\n",
       "      <td>53.899186</td>\n",
       "      <td>1712.549460</td>\n",
       "    </tr>\n",
       "    <tr>\n",
       "      <th>23</th>\n",
       "      <td>36.658195</td>\n",
       "      <td>975.546739</td>\n",
       "    </tr>\n",
       "    <tr>\n",
       "      <th>24</th>\n",
       "      <td>41.930286</td>\n",
       "      <td>1145.660086</td>\n",
       "    </tr>\n",
       "    <tr>\n",
       "      <th>25</th>\n",
       "      <td>86.846238</td>\n",
       "      <td>5038.946183</td>\n",
       "    </tr>\n",
       "    <tr>\n",
       "      <th>26</th>\n",
       "      <td>7.544363</td>\n",
       "      <td>63.494423</td>\n",
       "    </tr>\n",
       "    <tr>\n",
       "      <th>27</th>\n",
       "      <td>84.369661</td>\n",
       "      <td>3900.169443</td>\n",
       "    </tr>\n",
       "    <tr>\n",
       "      <th>28</th>\n",
       "      <td>62.808685</td>\n",
       "      <td>2202.842869</td>\n",
       "    </tr>\n",
       "    <tr>\n",
       "      <th>29</th>\n",
       "      <td>65.140795</td>\n",
       "      <td>3040.842288</td>\n",
       "    </tr>\n",
       "    <tr>\n",
       "      <th>...</th>\n",
       "      <td>...</td>\n",
       "      <td>...</td>\n",
       "    </tr>\n",
       "    <tr>\n",
       "      <th>999</th>\n",
       "      <td>72.252458</td>\n",
       "      <td>2973.841346</td>\n",
       "    </tr>\n",
       "    <tr>\n",
       "      <th>1000</th>\n",
       "      <td>84.450709</td>\n",
       "      <td>3537.746762</td>\n",
       "    </tr>\n",
       "    <tr>\n",
       "      <th>1001</th>\n",
       "      <td>0.730418</td>\n",
       "      <td>15.743456</td>\n",
       "    </tr>\n",
       "    <tr>\n",
       "      <th>1002</th>\n",
       "      <td>94.894636</td>\n",
       "      <td>6005.499786</td>\n",
       "    </tr>\n",
       "    <tr>\n",
       "      <th>1003</th>\n",
       "      <td>79.762959</td>\n",
       "      <td>3733.361996</td>\n",
       "    </tr>\n",
       "    <tr>\n",
       "      <th>1004</th>\n",
       "      <td>85.666080</td>\n",
       "      <td>4718.145903</td>\n",
       "    </tr>\n",
       "    <tr>\n",
       "      <th>1005</th>\n",
       "      <td>29.374136</td>\n",
       "      <td>644.207329</td>\n",
       "    </tr>\n",
       "    <tr>\n",
       "      <th>1006</th>\n",
       "      <td>73.085057</td>\n",
       "      <td>3826.443664</td>\n",
       "    </tr>\n",
       "    <tr>\n",
       "      <th>1007</th>\n",
       "      <td>75.877993</td>\n",
       "      <td>3643.735736</td>\n",
       "    </tr>\n",
       "    <tr>\n",
       "      <th>1008</th>\n",
       "      <td>75.658218</td>\n",
       "      <td>2979.696869</td>\n",
       "    </tr>\n",
       "    <tr>\n",
       "      <th>1009</th>\n",
       "      <td>93.498584</td>\n",
       "      <td>5306.943110</td>\n",
       "    </tr>\n",
       "    <tr>\n",
       "      <th>1010</th>\n",
       "      <td>8.861316</td>\n",
       "      <td>27.344280</td>\n",
       "    </tr>\n",
       "    <tr>\n",
       "      <th>1011</th>\n",
       "      <td>6.770728</td>\n",
       "      <td>53.551495</td>\n",
       "    </tr>\n",
       "    <tr>\n",
       "      <th>1012</th>\n",
       "      <td>19.934200</td>\n",
       "      <td>430.861313</td>\n",
       "    </tr>\n",
       "    <tr>\n",
       "      <th>1013</th>\n",
       "      <td>69.069655</td>\n",
       "      <td>3596.021925</td>\n",
       "    </tr>\n",
       "    <tr>\n",
       "      <th>1014</th>\n",
       "      <td>43.069822</td>\n",
       "      <td>1052.473275</td>\n",
       "    </tr>\n",
       "    <tr>\n",
       "      <th>1015</th>\n",
       "      <td>44.888597</td>\n",
       "      <td>1181.685726</td>\n",
       "    </tr>\n",
       "    <tr>\n",
       "      <th>1016</th>\n",
       "      <td>38.050677</td>\n",
       "      <td>970.473070</td>\n",
       "    </tr>\n",
       "    <tr>\n",
       "      <th>1017</th>\n",
       "      <td>36.166814</td>\n",
       "      <td>876.161816</td>\n",
       "    </tr>\n",
       "    <tr>\n",
       "      <th>1018</th>\n",
       "      <td>72.187890</td>\n",
       "      <td>2622.475002</td>\n",
       "    </tr>\n",
       "    <tr>\n",
       "      <th>1019</th>\n",
       "      <td>12.951128</td>\n",
       "      <td>197.849603</td>\n",
       "    </tr>\n",
       "    <tr>\n",
       "      <th>1020</th>\n",
       "      <td>22.343549</td>\n",
       "      <td>361.145526</td>\n",
       "    </tr>\n",
       "    <tr>\n",
       "      <th>1021</th>\n",
       "      <td>30.362748</td>\n",
       "      <td>716.058332</td>\n",
       "    </tr>\n",
       "    <tr>\n",
       "      <th>1022</th>\n",
       "      <td>56.294199</td>\n",
       "      <td>2044.068418</td>\n",
       "    </tr>\n",
       "    <tr>\n",
       "      <th>1023</th>\n",
       "      <td>12.365367</td>\n",
       "      <td>124.115659</td>\n",
       "    </tr>\n",
       "    <tr>\n",
       "      <th>1024</th>\n",
       "      <td>34.616324</td>\n",
       "      <td>996.845341</td>\n",
       "    </tr>\n",
       "    <tr>\n",
       "      <th>1025</th>\n",
       "      <td>6.695290</td>\n",
       "      <td>7.525460</td>\n",
       "    </tr>\n",
       "    <tr>\n",
       "      <th>1026</th>\n",
       "      <td>2.756538</td>\n",
       "      <td>23.870698</td>\n",
       "    </tr>\n",
       "    <tr>\n",
       "      <th>1027</th>\n",
       "      <td>29.754913</td>\n",
       "      <td>575.220738</td>\n",
       "    </tr>\n",
       "    <tr>\n",
       "      <th>1028</th>\n",
       "      <td>80.322391</td>\n",
       "      <td>4094.225474</td>\n",
       "    </tr>\n",
       "  </tbody>\n",
       "</table>\n",
       "<p>1029 rows × 2 columns</p>\n",
       "</div>"
      ],
      "text/plain": [
       "              X            y\n",
       "0     99.320698  5939.441068\n",
       "1     40.493010  1110.673401\n",
       "2     55.350489  2346.004414\n",
       "3     63.938261  2672.828947\n",
       "4     54.209839  1371.676095\n",
       "5     58.567857  2243.957468\n",
       "6     73.800856  3385.903677\n",
       "7     38.966794  1244.996258\n",
       "8     35.206371   487.813781\n",
       "9     71.143556  3544.184096\n",
       "10    10.530378    22.828265\n",
       "11    17.035495    47.039926\n",
       "12    68.388310  2793.767914\n",
       "13    10.976291    69.193007\n",
       "14    43.487625   822.915252\n",
       "15     4.367692    29.735003\n",
       "16     6.229854    10.406188\n",
       "17    97.439567  6102.892738\n",
       "18    95.021805  5196.513681\n",
       "19    41.489106   877.114624\n",
       "20    83.205668  4539.286637\n",
       "21    66.392600  2234.470048\n",
       "22    53.899186  1712.549460\n",
       "23    36.658195   975.546739\n",
       "24    41.930286  1145.660086\n",
       "25    86.846238  5038.946183\n",
       "26     7.544363    63.494423\n",
       "27    84.369661  3900.169443\n",
       "28    62.808685  2202.842869\n",
       "29    65.140795  3040.842288\n",
       "...         ...          ...\n",
       "999   72.252458  2973.841346\n",
       "1000  84.450709  3537.746762\n",
       "1001   0.730418    15.743456\n",
       "1002  94.894636  6005.499786\n",
       "1003  79.762959  3733.361996\n",
       "1004  85.666080  4718.145903\n",
       "1005  29.374136   644.207329\n",
       "1006  73.085057  3826.443664\n",
       "1007  75.877993  3643.735736\n",
       "1008  75.658218  2979.696869\n",
       "1009  93.498584  5306.943110\n",
       "1010   8.861316    27.344280\n",
       "1011   6.770728    53.551495\n",
       "1012  19.934200   430.861313\n",
       "1013  69.069655  3596.021925\n",
       "1014  43.069822  1052.473275\n",
       "1015  44.888597  1181.685726\n",
       "1016  38.050677   970.473070\n",
       "1017  36.166814   876.161816\n",
       "1018  72.187890  2622.475002\n",
       "1019  12.951128   197.849603\n",
       "1020  22.343549   361.145526\n",
       "1021  30.362748   716.058332\n",
       "1022  56.294199  2044.068418\n",
       "1023  12.365367   124.115659\n",
       "1024  34.616324   996.845341\n",
       "1025   6.695290     7.525460\n",
       "1026   2.756538    23.870698\n",
       "1027  29.754913   575.220738\n",
       "1028  80.322391  4094.225474\n",
       "\n",
       "[1029 rows x 2 columns]"
      ]
     },
     "execution_count": 1,
     "metadata": {},
     "output_type": "execute_result"
    }
   ],
   "source": [
    "import pandas as pd\n",
    "import numpy as np\n",
    "import csv\n",
    "from sklearn.cross_validation import train_test_split\n",
    "from sklearn.linear_model import LinearRegression\n",
    "import matplotlib.pyplot as plt\n",
    "%matplotlib inline\n",
    "\n",
    "lr = pd.read_csv(\"regLin2.csv\")\n",
    "lr"
   ]
  },
  {
   "cell_type": "code",
   "execution_count": 2,
   "metadata": {
    "collapsed": false
   },
   "outputs": [
    {
     "data": {
      "text/plain": [
       "LinearRegression(copy_X=True, fit_intercept=True, n_jobs=1, normalize=False)"
      ]
     },
     "execution_count": 2,
     "metadata": {},
     "output_type": "execute_result"
    }
   ],
   "source": [
    "X_train, X_test, Y_train, Y_test = train_test_split(lr[[\"X\"]], lr[[\"y\"]], train_size=0.75)\n",
    "lm = LinearRegression()\n",
    "lm\n",
    "lm.fit(X_train, Y_train)"
   ]
  },
  {
   "cell_type": "code",
   "execution_count": 3,
   "metadata": {
    "collapsed": false
   },
   "outputs": [
    {
     "data": {
      "text/plain": [
       "y    278250.039114\n",
       "dtype: float64"
      ]
     },
     "execution_count": 3,
     "metadata": {},
     "output_type": "execute_result"
    }
   ],
   "source": [
    "np.mean((lm.predict(X_test) - Y_test) ** 2)"
   ]
  },
  {
   "cell_type": "code",
   "execution_count": 4,
   "metadata": {
    "collapsed": false
   },
   "outputs": [
    {
     "data": {
      "text/plain": [
       "array([[ 60.62622153]])"
      ]
     },
     "execution_count": 4,
     "metadata": {},
     "output_type": "execute_result"
    }
   ],
   "source": [
    "lm.coef_"
   ]
  },
  {
   "cell_type": "code",
   "execution_count": 5,
   "metadata": {
    "collapsed": false
   },
   "outputs": [
    {
     "data": {
      "text/plain": [
       "array([-950.36659037])"
      ]
     },
     "execution_count": 5,
     "metadata": {},
     "output_type": "execute_result"
    }
   ],
   "source": [
    "lm.intercept_"
   ]
  },
  {
   "cell_type": "code",
   "execution_count": 6,
   "metadata": {
    "collapsed": false
   },
   "outputs": [
    {
     "data": {
      "text/plain": [
       "[<matplotlib.lines.Line2D at 0x39c0cc0>]"
      ]
     },
     "execution_count": 6,
     "metadata": {},
     "output_type": "execute_result"
    },
    {
     "data": {
      "image/png": "[encoded data removed]",
      "text/plain": [
       "<matplotlib.figure.Figure at 0x39c0940>"
      ]
     },
     "metadata": {},
     "output_type": "display_data"
    }
   ],
   "source": [
    "plt.scatter(X_test, Y_test,  color='black')\n",
    "plt.plot(X_test, lm.predict(X_test), color='blue',linewidth=3)\n"
   ]
  },
  {
   "cell_type": "code",
   "execution_count": 10,
   "metadata": {
    "collapsed": false
   },
   "outputs": [
    {
     "data": {
      "text/plain": [
       "[<matplotlib.lines.Line2D at 0x18d16f60>]"
      ]
     },
     "execution_count": 10,
     "metadata": {},
     "output_type": "execute_result"
    },
    {
     "data": {
      "image/png": "[encoded data removed]",
      "text/plain": [
       "<matplotlib.figure.Figure at 0x186400f0>"
      ]
     },
     "metadata": {},
     "output_type": "display_data"
    }
   ],
   "source": [
    "w0 = lm.intercept_[0]\n",
    "w1 = lm.coef_[0][0]\n",
    "\n",
    "W=range(-100,100,1) + w1\n",
    "error =[]\n",
    "for i in W:\n",
    "    y_pred = i*X_test + w0\n",
    "    C= np.subtract(y_pred, Y_test)\n",
    "    C= C**2\n",
    "    error.append(np.mean(C))\n",
    "\n",
    "plt.plot(W,error)"
   ]
  },
  {
   "cell_type": "code",
   "execution_count": null,
   "metadata": {
    "collapsed": true
   },
   "outputs": [],
   "source": []
  }
 ],
 "metadata": {
  "kernelspec": {
   "display_name": "Python 2",
   "language": "python",
   "name": "python2"
  },
  "language_info": {
   "codemirror_mode": {
    "name": "ipython",
    "version": 2
   },
   "file_extension": ".py",
   "mimetype": "text/x-python",
   "name": "python",
   "nbconvert_exporter": "python",
   "pygments_lexer": "ipython2",
   "version": "2.7.10"
  }
 },
 "nbformat": 4,
 "nbformat_minor": 0
}
